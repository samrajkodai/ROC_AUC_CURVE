{
  "nbformat": 4,
  "nbformat_minor": 0,
  "metadata": {
    "colab": {
      "name": "Threshold value with ROC Curve.ipynb",
      "provenance": [],
      "collapsed_sections": []
    },
    "kernelspec": {
      "name": "python3",
      "display_name": "Python 3"
    },
    "language_info": {
      "name": "python"
    }
  },
  "cells": [
    {
      "cell_type": "code",
      "metadata": {
        "id": "Kt6xOoTjohKY"
      },
      "source": [
        "import pandas as pd\n",
        "import numpy as np\n",
        "import seaborn as sns"
      ],
      "execution_count": 1,
      "outputs": []
    },
    {
      "cell_type": "code",
      "metadata": {
        "id": "BOb0wlGkow2I"
      },
      "source": [
        "from sklearn.datasets import make_classification"
      ],
      "execution_count": 2,
      "outputs": []
    },
    {
      "cell_type": "code",
      "metadata": {
        "id": "qdJTrrmPpFLL"
      },
      "source": [
        "x,y=make_classification(n_samples=2000,n_classes=2,weights=[1,1],random_state=0)"
      ],
      "execution_count": 3,
      "outputs": []
    },
    {
      "cell_type": "code",
      "metadata": {
        "colab": {
          "base_uri": "https://localhost:8080/"
        },
        "id": "T6t_yDT9pSdZ",
        "outputId": "9b0ec514-2a55-4c07-c4c7-ea6c905f9b46"
      },
      "source": [
        "x"
      ],
      "execution_count": 4,
      "outputs": [
        {
          "output_type": "execute_result",
          "data": {
            "text/plain": [
              "array([[ 1.71396871,  0.56007765, -0.32306624, ..., -1.60478942,\n",
              "        -0.58348594, -3.38243762],\n",
              "       [ 0.66335255,  1.69747762, -0.13520391, ..., -1.57702179,\n",
              "         0.02436752, -0.84967142],\n",
              "       [ 1.18044791,  0.12533828, -0.22660736, ..., -0.99614512,\n",
              "         1.54205969, -1.01776843],\n",
              "       ...,\n",
              "       [ 0.26502694, -0.34698725,  0.00655853, ...,  1.01873591,\n",
              "        -1.34601194,  1.48602899],\n",
              "       [ 1.16928831,  0.44913798, -0.24926731, ..., -0.42176256,\n",
              "         1.76896219,  0.58426773],\n",
              "       [ 0.20776858,  0.90404532,  0.01927735, ..., -0.33169018,\n",
              "        -0.04036453, -2.31778308]])"
            ]
          },
          "metadata": {
            "tags": []
          },
          "execution_count": 4
        }
      ]
    },
    {
      "cell_type": "code",
      "metadata": {
        "id": "G6NNIyK8o2Vy"
      },
      "source": [
        "from sklearn.model_selection import train_test_split\n",
        "x_train,x_test,y_train,y_test=train_test_split(x,y,test_size=0.3,random_state=0)"
      ],
      "execution_count": 5,
      "outputs": []
    },
    {
      "cell_type": "code",
      "metadata": {
        "id": "n1EqVEjxpfdq"
      },
      "source": [
        "from sklearn.metrics import roc_curve,roc_auc_score"
      ],
      "execution_count": 6,
      "outputs": []
    },
    {
      "cell_type": "code",
      "metadata": {
        "colab": {
          "base_uri": "https://localhost:8080/"
        },
        "id": "8ebAPs9GqVzi",
        "outputId": "737ed0c9-3495-4704-9c18-428a2037042b"
      },
      "source": [
        "from sklearn.ensemble import RandomForestClassifier\n",
        "cl=RandomForestClassifier()\n",
        "cl.fit(x_train,y_train)\n",
        "y_train_pred=cl.predict(x_train)\n",
        "print(roc_auc_score(y_train,y_train_pred))\n",
        "y_test_pred=cl.predict(x_test)\n",
        "print(roc_auc_score(y_test,y_test_pred))"
      ],
      "execution_count": 14,
      "outputs": [
        {
          "output_type": "stream",
          "text": [
            "1.0\n",
            "0.9934371523915462\n"
          ],
          "name": "stdout"
        }
      ]
    },
    {
      "cell_type": "code",
      "metadata": {
        "id": "8ITAq4Zeqnyp",
        "colab": {
          "base_uri": "https://localhost:8080/"
        },
        "outputId": "431593d2-47c2-4b9e-9857-55e8a35c2f87"
      },
      "source": [
        "from sklearn.linear_model import LogisticRegression\n",
        "Ll=LogisticRegression()\n",
        "Ll.fit(x_train,y_train)\n",
        "y_train_pred=Ll.predict(x_train)\n",
        "print(roc_auc_score(y_train,y_train_pred))\n",
        "y_test_pred=Ll.predict(x_test)\n",
        "print(roc_auc_score(y_test,y_test_pred))"
      ],
      "execution_count": 18,
      "outputs": [
        {
          "output_type": "stream",
          "text": [
            "0.9950107786778156\n",
            "0.9918242491657396\n"
          ],
          "name": "stdout"
        }
      ]
    },
    {
      "cell_type": "code",
      "metadata": {
        "colab": {
          "base_uri": "https://localhost:8080/"
        },
        "id": "YnEBoAGwVfvv",
        "outputId": "f8f5d700-6afb-46e4-a1a3-6a90d52a62c0"
      },
      "source": [
        "from sklearn.ensemble import AdaBoostClassifier\n",
        "hl=AdaBoostClassifier()\n",
        "hl.fit(x_train,y_train)\n",
        "y_train_pred=hl.predict(x_train)\n",
        "print(roc_auc_score(y_train,y_train_pred))\n",
        "y_test_pred=hl.predict(x_test)\n",
        "print(roc_auc_score(y_test,y_test_pred))"
      ],
      "execution_count": 19,
      "outputs": [
        {
          "output_type": "stream",
          "text": [
            "1.0\n",
            "0.9934371523915462\n"
          ],
          "name": "stdout"
        }
      ]
    },
    {
      "cell_type": "code",
      "metadata": {
        "colab": {
          "base_uri": "https://localhost:8080/"
        },
        "id": "0wbvAGdgVfmg",
        "outputId": "aaf2071d-f849-4142-ff7e-0ae71feef7a5"
      },
      "source": [
        "from sklearn.neighbors import KNeighborsClassifier\n",
        "kl=KNeighborsClassifier()\n",
        "kl.fit(x_train,y_train)\n",
        "y_train_pred=kl.predict(x_train)\n",
        "print(roc_auc_score(y_train,y_train_pred))\n",
        "y_test_pred=kl.predict(x_test)\n",
        "print(roc_auc_score(y_test,y_test_pred))"
      ],
      "execution_count": 20,
      "outputs": [
        {
          "output_type": "stream",
          "text": [
            "0.9877678338123856\n",
            "0.9758064516129032\n"
          ],
          "name": "stdout"
        }
      ]
    },
    {
      "cell_type": "code",
      "metadata": {
        "id": "6GkwQ7ySq91v",
        "colab": {
          "base_uri": "https://localhost:8080/"
        },
        "outputId": "eccf85db-2ee3-4cb6-a361-50ad91fdf72b"
      },
      "source": [
        "pred=[]\n",
        "\n",
        "for model in [cl,hl,kl,Ll]:\n",
        "  pred.append(pd.Series(model.predict(x_test)))\n",
        "final=pd.concat(pred,axis=1).mean(axis=1)\n",
        "print(roc_auc_score(y_test,final))"
      ],
      "execution_count": 55,
      "outputs": [
        {
          "output_type": "stream",
          "text": [
            "0.9950778642936596\n"
          ],
          "name": "stdout"
        }
      ]
    },
    {
      "cell_type": "code",
      "metadata": {
        "colab": {
          "base_uri": "https://localhost:8080/"
        },
        "id": "wWkSLI8pb1gj",
        "outputId": "943ad7c0-19cc-4d29-e23b-9e64e7e05d32"
      },
      "source": [
        "final"
      ],
      "execution_count": 56,
      "outputs": [
        {
          "output_type": "execute_result",
          "data": {
            "text/plain": [
              "0      1.0\n",
              "1      0.0\n",
              "2      0.0\n",
              "3      1.0\n",
              "4      1.0\n",
              "      ... \n",
              "595    1.0\n",
              "596    0.0\n",
              "597    0.0\n",
              "598    0.0\n",
              "599    1.0\n",
              "Length: 600, dtype: float64"
            ]
          },
          "metadata": {
            "tags": []
          },
          "execution_count": 56
        }
      ]
    },
    {
      "cell_type": "code",
      "metadata": {
        "colab": {
          "base_uri": "https://localhost:8080/",
          "height": 424
        },
        "id": "ikzNjY6mXCQA",
        "outputId": "ffe62072-0058-46fb-9c81-32d7159edae3"
      },
      "source": [
        "pd.concat(pred,axis=1)"
      ],
      "execution_count": 30,
      "outputs": [
        {
          "output_type": "execute_result",
          "data": {
            "text/html": [
              "<div>\n",
              "<style scoped>\n",
              "    .dataframe tbody tr th:only-of-type {\n",
              "        vertical-align: middle;\n",
              "    }\n",
              "\n",
              "    .dataframe tbody tr th {\n",
              "        vertical-align: top;\n",
              "    }\n",
              "\n",
              "    .dataframe thead th {\n",
              "        text-align: right;\n",
              "    }\n",
              "</style>\n",
              "<table border=\"1\" class=\"dataframe\">\n",
              "  <thead>\n",
              "    <tr style=\"text-align: right;\">\n",
              "      <th></th>\n",
              "      <th>0</th>\n",
              "      <th>1</th>\n",
              "      <th>2</th>\n",
              "      <th>3</th>\n",
              "    </tr>\n",
              "  </thead>\n",
              "  <tbody>\n",
              "    <tr>\n",
              "      <th>0</th>\n",
              "      <td>1</td>\n",
              "      <td>1</td>\n",
              "      <td>1</td>\n",
              "      <td>1</td>\n",
              "    </tr>\n",
              "    <tr>\n",
              "      <th>1</th>\n",
              "      <td>0</td>\n",
              "      <td>0</td>\n",
              "      <td>0</td>\n",
              "      <td>0</td>\n",
              "    </tr>\n",
              "    <tr>\n",
              "      <th>2</th>\n",
              "      <td>0</td>\n",
              "      <td>0</td>\n",
              "      <td>0</td>\n",
              "      <td>0</td>\n",
              "    </tr>\n",
              "    <tr>\n",
              "      <th>3</th>\n",
              "      <td>1</td>\n",
              "      <td>1</td>\n",
              "      <td>1</td>\n",
              "      <td>1</td>\n",
              "    </tr>\n",
              "    <tr>\n",
              "      <th>4</th>\n",
              "      <td>1</td>\n",
              "      <td>1</td>\n",
              "      <td>1</td>\n",
              "      <td>1</td>\n",
              "    </tr>\n",
              "    <tr>\n",
              "      <th>...</th>\n",
              "      <td>...</td>\n",
              "      <td>...</td>\n",
              "      <td>...</td>\n",
              "      <td>...</td>\n",
              "    </tr>\n",
              "    <tr>\n",
              "      <th>595</th>\n",
              "      <td>1</td>\n",
              "      <td>1</td>\n",
              "      <td>1</td>\n",
              "      <td>1</td>\n",
              "    </tr>\n",
              "    <tr>\n",
              "      <th>596</th>\n",
              "      <td>0</td>\n",
              "      <td>0</td>\n",
              "      <td>0</td>\n",
              "      <td>0</td>\n",
              "    </tr>\n",
              "    <tr>\n",
              "      <th>597</th>\n",
              "      <td>0</td>\n",
              "      <td>0</td>\n",
              "      <td>0</td>\n",
              "      <td>0</td>\n",
              "    </tr>\n",
              "    <tr>\n",
              "      <th>598</th>\n",
              "      <td>0</td>\n",
              "      <td>0</td>\n",
              "      <td>0</td>\n",
              "      <td>0</td>\n",
              "    </tr>\n",
              "    <tr>\n",
              "      <th>599</th>\n",
              "      <td>1</td>\n",
              "      <td>1</td>\n",
              "      <td>1</td>\n",
              "      <td>1</td>\n",
              "    </tr>\n",
              "  </tbody>\n",
              "</table>\n",
              "<p>600 rows × 4 columns</p>\n",
              "</div>"
            ],
            "text/plain": [
              "     0  1  2  3\n",
              "0    1  1  1  1\n",
              "1    0  0  0  0\n",
              "2    0  0  0  0\n",
              "3    1  1  1  1\n",
              "4    1  1  1  1\n",
              "..  .. .. .. ..\n",
              "595  1  1  1  1\n",
              "596  0  0  0  0\n",
              "597  0  0  0  0\n",
              "598  0  0  0  0\n",
              "599  1  1  1  1\n",
              "\n",
              "[600 rows x 4 columns]"
            ]
          },
          "metadata": {
            "tags": []
          },
          "execution_count": 30
        }
      ]
    },
    {
      "cell_type": "code",
      "metadata": {
        "colab": {
          "base_uri": "https://localhost:8080/"
        },
        "id": "kmneKsSDXP3l",
        "outputId": "946bd6e6-c651-47f5-923c-3b762786598a"
      },
      "source": [
        "final"
      ],
      "execution_count": 32,
      "outputs": [
        {
          "output_type": "execute_result",
          "data": {
            "text/plain": [
              "0      1.0\n",
              "1      0.0\n",
              "2      0.0\n",
              "3      1.0\n",
              "4      1.0\n",
              "      ... \n",
              "595    1.0\n",
              "596    0.0\n",
              "597    0.0\n",
              "598    0.0\n",
              "599    1.0\n",
              "Length: 600, dtype: float64"
            ]
          },
          "metadata": {
            "tags": []
          },
          "execution_count": 32
        }
      ]
    },
    {
      "cell_type": "code",
      "metadata": {
        "id": "U76F3iQ_X89B"
      },
      "source": [
        "fpr,tpr,threshold=roc_curve(y_test,final)"
      ],
      "execution_count": 33,
      "outputs": []
    },
    {
      "cell_type": "code",
      "metadata": {
        "colab": {
          "base_uri": "https://localhost:8080/"
        },
        "id": "6BYplSUCY21e",
        "outputId": "87c7cf69-6f35-417e-d583-4936ce3b8543"
      },
      "source": [
        "threshold"
      ],
      "execution_count": 34,
      "outputs": [
        {
          "output_type": "execute_result",
          "data": {
            "text/plain": [
              "array([2.  , 1.  , 0.75, 0.5 , 0.  ])"
            ]
          },
          "metadata": {
            "tags": []
          },
          "execution_count": 34
        }
      ]
    },
    {
      "cell_type": "code",
      "metadata": {
        "id": "M5_Q-3CYY4tr"
      },
      "source": [
        "from sklearn.metrics import accuracy_score\n",
        "accuracy=[]\n",
        "\n",
        "for thres in threshold:\n",
        "  y_pred=np.where(final>thres,1,0)\n",
        "  accuracy.append(accuracy_score(y_test,y_pred))\n",
        "accuracy=pd.concat([pd.Series(accuracy),pd.Series(threshold)],axis=1)\n",
        "accuracy.columns=['accuracy','threshold']\n",
        "accuracy.sort_values('accuracy',inplace=True,ascending=False)"
      ],
      "execution_count": 47,
      "outputs": []
    },
    {
      "cell_type": "code",
      "metadata": {
        "colab": {
          "base_uri": "https://localhost:8080/",
          "height": 206
        },
        "id": "QFjRmxgKZe-J",
        "outputId": "cb329dd5-ffd5-431a-c4dd-282865fb3c5e"
      },
      "source": [
        "accuracy"
      ],
      "execution_count": 48,
      "outputs": [
        {
          "output_type": "execute_result",
          "data": {
            "text/html": [
              "<div>\n",
              "<style scoped>\n",
              "    .dataframe tbody tr th:only-of-type {\n",
              "        vertical-align: middle;\n",
              "    }\n",
              "\n",
              "    .dataframe tbody tr th {\n",
              "        vertical-align: top;\n",
              "    }\n",
              "\n",
              "    .dataframe thead th {\n",
              "        text-align: right;\n",
              "    }\n",
              "</style>\n",
              "<table border=\"1\" class=\"dataframe\">\n",
              "  <thead>\n",
              "    <tr style=\"text-align: right;\">\n",
              "      <th></th>\n",
              "      <th>accuracy</th>\n",
              "      <th>threshold</th>\n",
              "    </tr>\n",
              "  </thead>\n",
              "  <tbody>\n",
              "    <tr>\n",
              "      <th>4</th>\n",
              "      <td>0.993333</td>\n",
              "      <td>0.00</td>\n",
              "    </tr>\n",
              "    <tr>\n",
              "      <th>3</th>\n",
              "      <td>0.975000</td>\n",
              "      <td>0.50</td>\n",
              "    </tr>\n",
              "    <tr>\n",
              "      <th>2</th>\n",
              "      <td>0.973333</td>\n",
              "      <td>0.75</td>\n",
              "    </tr>\n",
              "    <tr>\n",
              "      <th>0</th>\n",
              "      <td>0.483333</td>\n",
              "      <td>2.00</td>\n",
              "    </tr>\n",
              "    <tr>\n",
              "      <th>1</th>\n",
              "      <td>0.483333</td>\n",
              "      <td>1.00</td>\n",
              "    </tr>\n",
              "  </tbody>\n",
              "</table>\n",
              "</div>"
            ],
            "text/plain": [
              "   accuracy  threshold\n",
              "4  0.993333       0.00\n",
              "3  0.975000       0.50\n",
              "2  0.973333       0.75\n",
              "0  0.483333       2.00\n",
              "1  0.483333       1.00"
            ]
          },
          "metadata": {
            "tags": []
          },
          "execution_count": 48
        }
      ]
    },
    {
      "cell_type": "code",
      "metadata": {
        "id": "2xm9rlcNbOgl"
      },
      "source": [
        "import matplotlib.pyplot as plt\n"
      ],
      "execution_count": 50,
      "outputs": []
    },
    {
      "cell_type": "code",
      "metadata": {
        "colab": {
          "base_uri": "https://localhost:8080/",
          "height": 283
        },
        "id": "4oE7uJhhZgvI",
        "outputId": "c193173a-1fc0-41b5-95ce-04b90161497e"
      },
      "source": [
        "plt.plot(fpr,tpr)\n",
        "plt.plot([0,1],[0,1])"
      ],
      "execution_count": 52,
      "outputs": [
        {
          "output_type": "execute_result",
          "data": {
            "text/plain": [
              "[<matplotlib.lines.Line2D at 0x7fe9c0480810>]"
            ]
          },
          "metadata": {
            "tags": []
          },
          "execution_count": 52
        },
        {
          "output_type": "display_data",
          "data": {
            "image/png": "[encoded data removed]",
            "text/plain": [
              "<Figure size 432x288 with 1 Axes>"
            ]
          },
          "metadata": {
            "tags": [],
            "needs_background": "light"
          }
        }
      ]
    },
    {
      "cell_type": "code",
      "metadata": {
        "id": "KUDxKkIsbNRf"
      },
      "source": [
        ""
      ],
      "execution_count": null,
      "outputs": []
    }
  ]
}